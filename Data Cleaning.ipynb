{
 "cells": [
  {
   "cell_type": "code",
   "execution_count": null,
   "id": "5df33bc7",
   "metadata": {},
   "outputs": [],
   "source": [
    "import pandas as pd\n",
    "import numpy as np\n",
    "\n",
    "file_path = r\"C:\\Users\\japar\\OneDrive\\Desktop\\SQL\\Drug Related Deaths\\Accidental_Drug_Related_Deaths_2012-2023.csv\"\n",
    "\n",
    "df = pd.read_csv(file_path)\n",
    "df.columns"
   ]
  },
  {
   "cell_type": "code",
   "execution_count": 22,
   "id": "9ea1fe5d",
   "metadata": {},
   "outputs": [],
   "source": [
    "# Remove coordinates\n",
    "def remove_coordinates(geo_str):\n",
    "    if isinstance(geo_str, str):\n",
    "        return geo_str.split('\\n')[0].strip()\n",
    "    return geo_str\n",
    "\n",
    "df['ResidenceCityGeo'] = df['ResidenceCityGeo'].apply(remove_coordinates)\n",
    "df['InjuryCityGeo'] = df['InjuryCityGeo'].apply(remove_coordinates)\n",
    "df['DeathCityGeo'] = df['DeathCityGeo'].apply(remove_coordinates)"
   ]
  },
  {
   "cell_type": "code",
   "execution_count": 23,
   "id": "0be33df7",
   "metadata": {},
   "outputs": [],
   "source": [
    "# Date parsing\n",
    "df['Date'] = pd.to_datetime(df['Date'], errors = 'coerce')\n",
    "df['Year'] = df['Date'].dt.year\n",
    "df['Month'] = df['Date'].dt.month\n",
    "df['Weekday'] = df['Date'].dt.day_name()"
   ]
  },
  {
   "cell_type": "code",
   "execution_count": 24,
   "id": "f2ecd680",
   "metadata": {},
   "outputs": [],
   "source": [
    "# Creating age groups\n",
    "bins = [0, 17, 25, 35, 45, 55, 65, 100]\n",
    "labels = ['<18', '18-25', '26-35', '36-45', '46-55', '56-65', '66+']\n",
    "df['Age Group'] = pd.cut(df['Age'], bins = bins, labels = labels, right = True)"
   ]
  },
  {
   "cell_type": "code",
   "execution_count": 25,
   "id": "1de86e87",
   "metadata": {},
   "outputs": [],
   "source": [
    "# Count number of substances present\n",
    "substance_columns = [\n",
    "    'Heroin', 'Heroin death certificate (DC)', 'Cocaine', 'Fentanyl',\n",
    "    'Fentanyl Analogue', 'Oxycodone', 'Oxymorphone', 'Ethanol',\n",
    "    'Hydrocodone', 'Benzodiazepine', 'Methadone', 'Meth/Amphetamine',\n",
    "    'Amphet', 'Tramad', 'Hydromorphone', 'Morphine (Not Heroin)',\n",
    "    'Xylazine', 'Gabapentin', 'Opiate NOS', 'Heroin/Morph/Codeine',\n",
    "    'Other Opioid', 'Any Opioid', 'Other'\n",
    "]\n",
    "df['Num_Substances'] = df[substance_columns].notna().sum(axis=1)"
   ]
  },
  {
   "cell_type": "code",
   "execution_count": 26,
   "id": "289d0e85",
   "metadata": {},
   "outputs": [],
   "source": [
    "# Clean column names\n",
    "df.columns = df.columns.str.strip().str.lower().str.replace(' ', '_').str.replace(r'[^\\w\\s]', '', regex=True)"
   ]
  },
  {
   "cell_type": "code",
   "execution_count": 27,
   "id": "bbd6f7ba",
   "metadata": {},
   "outputs": [],
   "source": [
    "# Trim whitespace in string fields\n",
    "categorical_cols = df.select_dtypes(include='object').columns\n",
    "df[categorical_cols] = df[categorical_cols].apply(lambda x: x.str.strip() if x.dtype == \"object\" else x)"
   ]
  },
  {
   "cell_type": "code",
   "execution_count": 29,
   "id": "671b00cc",
   "metadata": {},
   "outputs": [],
   "source": [
    "# Filling missing state values (assuming CT since that is the most common)\n",
    "for col in ['residence_state', 'injury_state', 'death_state']:\n",
    "    df[col] = df[col].fillna('CT')\n"
   ]
  },
  {
   "cell_type": "code",
   "execution_count": 31,
   "id": "b2a28d8f",
   "metadata": {},
   "outputs": [],
   "source": [
    "# Impute missing demographic values\n",
    "df['sex'] = df['sex'].fillna('Unknown')\n",
    "df['race'] = df['race'].fillna('Unknown')"
   ]
  },
  {
   "cell_type": "code",
   "execution_count": 33,
   "id": "8941de6e",
   "metadata": {},
   "outputs": [],
   "source": [
    "# Drop rows with missing date and remove duplicates\n",
    "df = df[df['date'].notna()]\n",
    "df = df.drop_duplicates()"
   ]
  },
  {
   "cell_type": "code",
   "execution_count": 34,
   "id": "dc65eba9",
   "metadata": {},
   "outputs": [],
   "source": [
    "df.to_csv(\"Cleaned_Drug_Deaths.csv\", index=False)"
   ]
  }
 ],
 "metadata": {
  "kernelspec": {
   "display_name": "Python 3",
   "language": "python",
   "name": "python3"
  },
  "language_info": {
   "codemirror_mode": {
    "name": "ipython",
    "version": 3
   },
   "file_extension": ".py",
   "mimetype": "text/x-python",
   "name": "python",
   "nbconvert_exporter": "python",
   "pygments_lexer": "ipython3",
   "version": "3.11.9"
  }
 },
 "nbformat": 4,
 "nbformat_minor": 5
}
